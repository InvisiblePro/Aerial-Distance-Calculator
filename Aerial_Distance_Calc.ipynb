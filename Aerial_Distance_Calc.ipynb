from geopy.geocoders import Nominatim, ArcGIS
from geopy import distance
import folium
geodecoder = Nominatim(user_agent="python")

location1 = input("\nEnter your starting location :  ")
location2 = input("Enter your Destination :  ")

coordinates1 = geodecoder.geocode(location1)
coordinates2 = geodecoder.geocode(location2)

a = ArcGIS()
loca1 = a.geocode(location1)
loca1lat = loca1.latitude
loca1lon = loca1.longitude
loca2 = a.geocode(location2)
loca2lat = loca2.latitude
loca2lon = loca2.longitude
map = folium.Map(location=[loca1lat,loca1lon],zoom_start=4)
locationcap1 = location1.capitalize()
locationcap2 = location2.capitalize()

startingLoc = (loca1lat, loca1lon)
destination = (loca2lat, loca2lon)

diststr = str(distance.distance(startingLoc,destination)).split(".",2)[0]


print(f"Aerial Distance between your location is {diststr} km (approx..)")
map.add_child(folium.Marker(location=[loca2lat,loca2lon],popup=locationcap2,icon=folium.Icon(color="red")))
map.add_child(folium.Marker(location=[loca1lat,loca1lon],popup=locationcap1,icon=folium.Icon(color="red")))
